{
 "cells": [
  {
   "cell_type": "code",
   "execution_count": 1,
   "id": "governing-drill",
   "metadata": {
    "execution": {
     "iopub.execute_input": "2021-02-02T15:25:16.412251Z",
     "iopub.status.busy": "2021-02-02T15:25:16.411805Z",
     "iopub.status.idle": "2021-02-02T15:25:16.413504Z",
     "shell.execute_reply": "2021-02-02T15:25:16.413860Z"
    },
    "papermill": {
     "duration": 0.013349,
     "end_time": "2021-02-02T15:25:16.414076",
     "exception": false,
     "start_time": "2021-02-02T15:25:16.400727",
     "status": "completed"
    },
    "tags": [
     "parameters"
    ]
   },
   "outputs": [],
   "source": [
    "scwid =\"066500110010.001\" # http://odahub.io/ontology/integral#ScWID\n",
    "emin=10.\n",
    "emax=900.\n",
    "nbins=100"
   ]
  },
  {
   "cell_type": "code",
   "execution_count": 2,
   "id": "civilian-crazy",
   "metadata": {
    "execution": {
     "iopub.execute_input": "2021-02-02T15:25:16.429690Z",
     "iopub.status.busy": "2021-02-02T15:25:16.429244Z",
     "iopub.status.idle": "2021-02-02T15:25:16.431741Z",
     "shell.execute_reply": "2021-02-02T15:25:16.431313Z"
    },
    "papermill": {
     "duration": 0.011471,
     "end_time": "2021-02-02T15:25:16.431837",
     "exception": false,
     "start_time": "2021-02-02T15:25:16.420366",
     "status": "completed"
    },
    "tags": [
     "injected-parameters"
    ]
   },
   "outputs": [],
   "source": [
    "# Parameters\n",
    "scwid = \"166500220010.001\"\n"
   ]
  },
  {
   "cell_type": "code",
   "execution_count": 3,
   "id": "optimum-recycling",
   "metadata": {
    "execution": {
     "iopub.execute_input": "2021-02-02T15:25:16.446659Z",
     "iopub.status.busy": "2021-02-02T15:25:16.446254Z",
     "iopub.status.idle": "2021-02-02T15:25:16.448012Z",
     "shell.execute_reply": "2021-02-02T15:25:16.448372Z"
    },
    "papermill": {
     "duration": 0.010736,
     "end_time": "2021-02-02T15:25:16.448485",
     "exception": false,
     "start_time": "2021-02-02T15:25:16.437749",
     "status": "completed"
    },
    "tags": []
   },
   "outputs": [],
   "source": [
    "if emin<0:\n",
    "    raise Exception(\"emin can not be <0! got: %lg\"%emin)"
   ]
  },
  {
   "cell_type": "code",
   "execution_count": 4,
   "id": "revised-diamond",
   "metadata": {
    "execution": {
     "iopub.execute_input": "2021-02-02T15:25:16.463979Z",
     "iopub.status.busy": "2021-02-02T15:25:16.463491Z",
     "iopub.status.idle": "2021-02-02T15:25:17.204747Z",
     "shell.execute_reply": "2021-02-02T15:25:17.204309Z"
    },
    "papermill": {
     "duration": 0.750623,
     "end_time": "2021-02-02T15:25:17.204847",
     "exception": false,
     "start_time": "2021-02-02T15:25:16.454224",
     "status": "completed"
    },
    "tags": []
   },
   "outputs": [
    {
     "name": "stderr",
     "output_type": "stream",
     "text": [
      "WARNING:root:unable to setup logstash FileNotFoundError(2, 'No such file or directory')\n"
     ]
    }
   ],
   "source": [
    "from ftplib import FTP\n",
    "import astropy.io.fits as fits\n",
    "from io import StringIO\n",
    "import os\n",
    "from nb2workflow.workflows import WorkflowException"
   ]
  },
  {
   "cell_type": "code",
   "execution_count": 5,
   "id": "disciplinary-discharge",
   "metadata": {
    "execution": {
     "iopub.execute_input": "2021-02-02T15:25:17.220263Z",
     "iopub.status.busy": "2021-02-02T15:25:17.219849Z",
     "iopub.status.idle": "2021-02-02T15:25:17.221951Z",
     "shell.execute_reply": "2021-02-02T15:25:17.221544Z"
    },
    "papermill": {
     "duration": 0.010892,
     "end_time": "2021-02-02T15:25:17.222052",
     "exception": false,
     "start_time": "2021-02-02T15:25:17.211160",
     "status": "completed"
    },
    "tags": []
   },
   "outputs": [],
   "source": [
    "if len(scwid) != 16:\n",
    "    raise WorkflowException(\"bad scwid: \"+scwid)"
   ]
  },
  {
   "cell_type": "code",
   "execution_count": 6,
   "id": "nutritional-commission",
   "metadata": {
    "execution": {
     "iopub.execute_input": "2021-02-02T15:25:17.240416Z",
     "iopub.status.busy": "2021-02-02T15:25:17.239960Z",
     "iopub.status.idle": "2021-02-02T15:25:19.519766Z",
     "shell.execute_reply": "2021-02-02T15:25:19.520116Z"
    },
    "papermill": {
     "duration": 2.291384,
     "end_time": "2021-02-02T15:25:19.520231",
     "exception": false,
     "start_time": "2021-02-02T15:25:17.228847",
     "status": "completed"
    },
    "tags": []
   },
   "outputs": [],
   "source": [
    "fn=\"events.fits\"\n",
    "os.system(\"wget ftp://isdcarc.unige.ch/arc/rev_3/scw/\"+scwid[:4]+\"/\"+scwid+\"/isgri_events.fits.gz -O \"+fn)\n",
    "\n",
    "os.system(\"ls -ltor\")\n",
    "\n",
    "events=fits.open(fn)[3].data"
   ]
  },
  {
   "cell_type": "code",
   "execution_count": 7,
   "id": "collective-direction",
   "metadata": {
    "execution": {
     "iopub.execute_input": "2021-02-02T15:25:19.536354Z",
     "iopub.status.busy": "2021-02-02T15:25:19.535645Z",
     "iopub.status.idle": "2021-02-02T15:25:20.585085Z",
     "shell.execute_reply": "2021-02-02T15:25:20.585414Z"
    },
    "papermill": {
     "duration": 1.0593,
     "end_time": "2021-02-02T15:25:20.585530",
     "exception": false,
     "start_time": "2021-02-02T15:25:19.526230",
     "status": "completed"
    },
    "tags": []
   },
   "outputs": [
    {
     "data": {
      "image/png": "[encoded data removed]",
      "text/plain": [
       "<Figure size 432x288 with 1 Axes>"
      ]
     },
     "metadata": {
      "needs_background": "light"
     },
     "output_type": "display_data"
    }
   ],
   "source": [
    "fn=\"spec.png\"\n",
    "\n",
    "import matplotlib.pyplot as plt\n",
    "import numpy as np\n",
    "plt.figure()\n",
    "h=plt.hist(events['ISGRI_ENERGY'],np.logspace(np.log10(emin),np.log10(emax),nbins),log=True)\n",
    "plt.semilogx()\n",
    "plt.savefig(fn)\n",
    "\n",
    "#Image(fn)"
   ]
  },
  {
   "cell_type": "code",
   "execution_count": 8,
   "id": "enclosed-inventory",
   "metadata": {
    "execution": {
     "iopub.execute_input": "2021-02-02T15:25:20.602008Z",
     "iopub.status.busy": "2021-02-02T15:25:20.601546Z",
     "iopub.status.idle": "2021-02-02T15:25:20.603886Z",
     "shell.execute_reply": "2021-02-02T15:25:20.604248Z"
    },
    "papermill": {
     "duration": 0.012101,
     "end_time": "2021-02-02T15:25:20.604362",
     "exception": false,
     "start_time": "2021-02-02T15:25:20.592261",
     "status": "completed"
    },
    "tags": []
   },
   "outputs": [
    {
     "data": {
      "text/plain": [
       "1348841"
      ]
     },
     "execution_count": 8,
     "metadata": {},
     "output_type": "execute_result"
    }
   ],
   "source": [
    "total_events=len(events['ISGRI_ENERGY'])\n",
    "total_events"
   ]
  },
  {
   "cell_type": "code",
   "execution_count": 9,
   "id": "persistent-worry",
   "metadata": {
    "execution": {
     "iopub.execute_input": "2021-02-02T15:25:20.664081Z",
     "iopub.status.busy": "2021-02-02T15:25:20.663579Z",
     "iopub.status.idle": "2021-02-02T15:25:20.665283Z",
     "shell.execute_reply": "2021-02-02T15:25:20.665607Z"
    },
    "papermill": {
     "duration": 0.05335,
     "end_time": "2021-02-02T15:25:20.665718",
     "exception": false,
     "start_time": "2021-02-02T15:25:20.612368",
     "status": "completed"
    },
    "tags": []
   },
   "outputs": [],
   "source": [
    "#import papermill as pm\n",
    "#import base64\n",
    "\n",
    "#pm.record(\"spectrum\",dict(filename=fn,content=base64.b64encode(open(fn).read())))\n"
   ]
  },
  {
   "cell_type": "code",
   "execution_count": null,
   "id": "following-asbestos",
   "metadata": {
    "papermill": {
     "duration": 0.006849,
     "end_time": "2021-02-02T15:25:20.679777",
     "exception": false,
     "start_time": "2021-02-02T15:25:20.672928",
     "status": "completed"
    },
    "tags": []
   },
   "outputs": [],
   "source": []
  },
  {
   "cell_type": "code",
   "execution_count": 10,
   "id": "educational-magic",
   "metadata": {
    "execution": {
     "iopub.execute_input": "2021-02-02T15:25:20.696620Z",
     "iopub.status.busy": "2021-02-02T15:25:20.696073Z",
     "iopub.status.idle": "2021-02-02T15:25:20.698873Z",
     "shell.execute_reply": "2021-02-02T15:25:20.698476Z"
    },
    "papermill": {
     "duration": 0.012451,
     "end_time": "2021-02-02T15:25:20.698970",
     "exception": false,
     "start_time": "2021-02-02T15:25:20.686519",
     "status": "completed"
    },
    "tags": [
     "outputs"
    ]
   },
   "outputs": [
    {
     "data": {
      "text/plain": [
       "1348841"
      ]
     },
     "execution_count": 10,
     "metadata": {},
     "output_type": "execute_result"
    }
   ],
   "source": [
    "spectrum_png = fn # http://odahub.io/ontology/preview/png\n",
    "spectrum = h[0].tolist() # http://odahub.io/ontology/preview/png\n",
    "total_events "
   ]
  },
  {
   "cell_type": "code",
   "execution_count": 11,
   "id": "academic-european",
   "metadata": {
    "execution": {
     "iopub.execute_input": "2021-02-02T15:25:20.721219Z",
     "iopub.status.busy": "2021-02-02T15:25:20.720680Z",
     "iopub.status.idle": "2021-02-02T15:25:20.732892Z",
     "shell.execute_reply": "2021-02-02T15:25:20.732518Z"
    },
    "papermill": {
     "duration": 0.026724,
     "end_time": "2021-02-02T15:25:20.732991",
     "exception": false,
     "start_time": "2021-02-02T15:25:20.706267",
     "status": "completed"
    },
    "tags": [
     "injected-gather-outputs"
    ]
   },
   "outputs": [
    {
     "data": {
      "application/scrapbook.scrap.text+json": {
       "data": "spec.png",
       "encoder": "text",
       "name": "spectrum_png",
       "version": 1
      }
     },
     "metadata": {
      "scrapbook": {
       "data": true,
       "display": false,
       "name": "spectrum_png"
      }
     },
     "output_type": "display_data"
    },
    {
     "data": {
      "application/scrapbook.scrap.text+json": {
       "data": "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",
       "encoder": "text",
       "name": "spectrum_png_content",
       "version": 1
      }
     },
     "metadata": {
      "scrapbook": {
       "data": true,
       "display": false,
       "name": "spectrum_png_content"
      }
     },
     "output_type": "display_data"
    },
    {
     "data": {
      "application/scrapbook.scrap.json+json": {
       "data": [
        673.0,
        716.0,
        714.0,
        721.0,
        722.0,
        761.0,
        797.0,
        918.0,
        1223.0,
        1417.0,
        1599.0,
        1757.0,
        2041.0,
        1948.0,
        2058.0,
        2114.0,
        2304.0,
        2741.0,
        3475.0,
        4777.0,
        6700.0,
        8707.0,
        11485.0,
        13849.0,
        15574.0,
        17107.0,
        17169.0,
        17348.0,
        16319.0,
        16027.0,
        14966.0,
        14292.0,
        13523.0,
        13072.0,
        13083.0,
        12971.0,
        13472.0,
        13398.0,
        14253.0,
        15652.0,
        17295.0,
        20059.0,
        22353.0,
        25991.0,
        26560.0,
        25068.0,
        25738.0,
        26557.0,
        29424.0,
        33116.0,
        31748.0,
        31190.0,
        28595.0,
        26431.0,
        23619.0,
        21519.0,
        19991.0,
        19320.0,
        18551.0,
        18692.0,
        19473.0,
        20375.0,
        20700.0,
        21049.0,
        20456.0,
        19565.0,
        19402.0,
        19044.0,
        18598.0,
        17821.0,
        17143.0,
        16485.0,
        15811.0,
        14750.0,
        14356.0,
        13148.0,
        13043.0,
        12468.0,
        11893.0,
        11550.0,
        10777.0,
        10236.0,
        9871.0,
        9144.0,
        8568.0,
        8455.0,
        8617.0,
        8699.0,
        8315.0,
        7165.0,
        6635.0,
        6267.0,
        5931.0,
        5528.0,
        5233.0,
        5190.0,
        5009.0,
        4797.0,
        4688.0
       ],
       "encoder": "json",
       "name": "spectrum",
       "version": 1
      }
     },
     "metadata": {
      "scrapbook": {
       "data": true,
       "display": false,
       "name": "spectrum"
      }
     },
     "output_type": "display_data"
    },
    {
     "data": {
      "application/scrapbook.scrap.json+json": {
       "data": 1348841,
       "encoder": "json",
       "name": "total_events",
       "version": 1
      }
     },
     "metadata": {
      "scrapbook": {
       "data": true,
       "display": false,
       "name": "total_events"
      }
     },
     "output_type": "display_data"
    },
    {
     "data": {
      "text/plain": [
       "False"
      ]
     },
     "execution_count": 11,
     "metadata": {},
     "output_type": "execute_result"
    }
   ],
   "source": [
    "\n",
    "import papermill as pm\n",
    "import scrapbook as sb\n",
    "import base64\n",
    "import json\n",
    "import os\n",
    "    \n",
    "from nb2workflow.nbadapter import denumpyfy\n",
    "\n",
    "\n",
    "try:\n",
    "    sb.glue(\"spectrum_png\",denumpyfy(spectrum_png))\n",
    "except Exception as e:\n",
    "    print(\"failed to glue spectrum_png\", spectrum_png)\n",
    "    print(\"will glue jsonified\")\n",
    "    sb.glue(\"spectrum_png\",json.dumps(denumpyfy(spectrum_png)))\n",
    "\n",
    "isinstance(spectrum_png,str) and os.path.exists(spectrum_png) and sb.glue(\"spectrum_png_content\",base64.b64encode(open(spectrum_png,'rb').read()).decode())\n",
    "\n",
    "try:\n",
    "    sb.glue(\"spectrum\",denumpyfy(spectrum))\n",
    "except Exception as e:\n",
    "    print(\"failed to glue spectrum\", spectrum)\n",
    "    print(\"will glue jsonified\")\n",
    "    sb.glue(\"spectrum\",json.dumps(denumpyfy(spectrum)))\n",
    "\n",
    "isinstance(spectrum,str) and os.path.exists(spectrum) and sb.glue(\"spectrum_content\",base64.b64encode(open(spectrum,'rb').read()).decode())\n",
    "\n",
    "try:\n",
    "    sb.glue(\"total_events\",denumpyfy(total_events))\n",
    "except Exception as e:\n",
    "    print(\"failed to glue total_events\", total_events)\n",
    "    print(\"will glue jsonified\")\n",
    "    sb.glue(\"total_events\",json.dumps(denumpyfy(total_events)))\n",
    "\n",
    "isinstance(total_events,str) and os.path.exists(total_events) and sb.glue(\"total_events_content\",base64.b64encode(open(total_events,'rb').read()).decode())\n"
   ]
  }
 ],
 "metadata": {
  "celltoolbar": "Tags",
  "kernelspec": {
   "display_name": "Python 3",
   "language": "python",
   "name": "python3"
  },
  "language_info": {
   "codemirror_mode": {
    "name": "ipython",
    "version": 3
   },
   "file_extension": ".py",
   "mimetype": "text/x-python",
   "name": "python",
   "nbconvert_exporter": "python",
   "pygments_lexer": "ipython3",
   "version": "3.8.6"
  },
  "papermill": {
   "default_parameters": {},
   "duration": 5.696047,
   "end_time": "2021-02-02T15:25:21.148575",
   "environment_variables": {},
   "exception": null,
   "input_path": "/tmp/nb2w-v7h85vcw/workflow-notebook_preproc.ipynb",
   "output_path": "/tmp/nb2w-v7h85vcw/workflow-notebook_output.ipynb",
   "parameters": {
    "scwid": "166500220010.001"
   },
   "start_time": "2021-02-02T15:25:15.452528",
   "version": "2.3.1"
  }
 },
 "nbformat": 4,
 "nbformat_minor": 5
}